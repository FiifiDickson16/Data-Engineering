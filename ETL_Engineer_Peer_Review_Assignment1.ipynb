{
 "cells": [
  {
   "cell_type": "code",
   "execution_count": null,
   "id": "a79ede19-e2b1-488b-88fd-dd4af626b4b9",
   "metadata": {},
   "outputs": [],
   "source": [
    "Peer Review Assignment - Data Engineer - ETL"
   ]
  },
  {
   "cell_type": "code",
   "execution_count": null,
   "id": "475fb021-ce60-4955-b5e4-b3017b1e7fe5",
   "metadata": {},
   "outputs": [],
   "source": [
    "Estimated time needed: 20 minutes"
   ]
  },
  {
   "cell_type": "code",
   "execution_count": null,
   "id": "067691f5-f470-4be3-aead-dcff82a54f8a",
   "metadata": {},
   "outputs": [],
   "source": [
    "Objectives\n",
    "In this final part you will:\n",
    "\n",
    "Run the ETL process\n",
    "Extract bank and market cap data from the JSON file bank_market_cap.json\n",
    "Transform the market cap currency using the exchange rate data\n",
    "Load the transformed data into a seperate CSV"
   ]
  },
  {
   "cell_type": "code",
   "execution_count": null,
   "id": "de933ada-6d88-413c-938a-b8a945baa1cf",
   "metadata": {},
   "outputs": [],
   "source": [
    "For this lab, we are going to be using Python and several Python libraries. Some of these libraries might be installed in your \n",
    "lab environment or in SN Labs. Others may need to be installed by you. The cells below will install these libraries when executed."
   ]
  },
  {
   "cell_type": "code",
   "execution_count": 1,
   "id": "424e16ba-2ef0-4e64-84cc-32335b98b30b",
   "metadata": {
    "tags": []
   },
   "outputs": [],
   "source": [
    "#!pip install glob\n",
    "#!pip install pandas\n",
    "#!pip install requests\n",
    "#!pip install datetime"
   ]
  },
  {
   "cell_type": "code",
   "execution_count": null,
   "id": "65321fc0-754b-495e-8f5a-6727af3d053c",
   "metadata": {},
   "outputs": [],
   "source": [
    "Imports\n",
    "Import any additional libraries you may need here."
   ]
  },
  {
   "cell_type": "code",
   "execution_count": 2,
   "id": "4934392b-bd11-4c06-9d7e-76f09a0cd0a1",
   "metadata": {
    "tags": []
   },
   "outputs": [],
   "source": [
    "import glob\n",
    "import pandas as pd\n",
    "from datetime import datetime"
   ]
  },
  {
   "cell_type": "code",
   "execution_count": null,
   "id": "cdbb8e4b-7b34-46c0-b916-b38193fe7927",
   "metadata": {},
   "outputs": [],
   "source": [
    "As the exchange rate fluctuates, we will download the same dataset to make marking simpler. This will be in the same format as the dataset you used in the last section"
   ]
  },
  {
   "cell_type": "code",
   "execution_count": 3,
   "id": "5d3e0263-a79b-4393-b5cd-aab9f77f3968",
   "metadata": {
    "tags": []
   },
   "outputs": [
    {
     "name": "stdout",
     "output_type": "stream",
     "text": [
      "--2023-06-11 16:51:38--  https://cf-courses-data.s3.us.cloud-object-storage.appdomain.cloud/IBMDeveloperSkillsNetwork-PY0221EN-SkillsNetwork/labs/module%206/Lab%20-%20Extract%20Transform%20Load/data/bank_market_cap_1.json\n",
      "Resolving cf-courses-data.s3.us.cloud-object-storage.appdomain.cloud (cf-courses-data.s3.us.cloud-object-storage.appdomain.cloud)... 169.63.118.104\n",
      "Connecting to cf-courses-data.s3.us.cloud-object-storage.appdomain.cloud (cf-courses-data.s3.us.cloud-object-storage.appdomain.cloud)|169.63.118.104|:443... connected.\n",
      "HTTP request sent, awaiting response... 200 OK\n",
      "Length: 2815 (2.7K) [application/json]\n",
      "Saving to: ‘bank_market_cap_1.json.1’\n",
      "\n",
      "bank_market_cap_1.j 100%[===================>]   2.75K  --.-KB/s    in 0s      \n",
      "\n",
      "2023-06-11 16:51:38 (24.5 MB/s) - ‘bank_market_cap_1.json.1’ saved [2815/2815]\n",
      "\n",
      "--2023-06-11 16:51:39--  https://cf-courses-data.s3.us.cloud-object-storage.appdomain.cloud/IBMDeveloperSkillsNetwork-PY0221EN-SkillsNetwork/labs/module%206/Lab%20-%20Extract%20Transform%20Load/data/bank_market_cap_2.json\n",
      "Resolving cf-courses-data.s3.us.cloud-object-storage.appdomain.cloud (cf-courses-data.s3.us.cloud-object-storage.appdomain.cloud)... 169.63.118.104\n",
      "Connecting to cf-courses-data.s3.us.cloud-object-storage.appdomain.cloud (cf-courses-data.s3.us.cloud-object-storage.appdomain.cloud)|169.63.118.104|:443... connected.\n",
      "HTTP request sent, awaiting response... 200 OK\n",
      "Length: 1429 (1.4K) [application/json]\n",
      "Saving to: ‘bank_market_cap_2.json.1’\n",
      "\n",
      "bank_market_cap_2.j 100%[===================>]   1.40K  --.-KB/s    in 0s      \n",
      "\n",
      "2023-06-11 16:51:39 (11.3 MB/s) - ‘bank_market_cap_2.json.1’ saved [1429/1429]\n",
      "\n",
      "--2023-06-11 16:51:39--  https://cf-courses-data.s3.us.cloud-object-storage.appdomain.cloud/IBMDeveloperSkillsNetwork-PY0221EN-SkillsNetwork/labs/module%206/Final%20Assignment/exchange_rates.csv\n",
      "Resolving cf-courses-data.s3.us.cloud-object-storage.appdomain.cloud (cf-courses-data.s3.us.cloud-object-storage.appdomain.cloud)... 169.63.118.104\n",
      "Connecting to cf-courses-data.s3.us.cloud-object-storage.appdomain.cloud (cf-courses-data.s3.us.cloud-object-storage.appdomain.cloud)|169.63.118.104|:443... connected.\n",
      "HTTP request sent, awaiting response... 200 OK\n",
      "Length: 590 [text/csv]\n",
      "Saving to: ‘exchange_rates.csv.1’\n",
      "\n",
      "exchange_rates.csv. 100%[===================>]     590  --.-KB/s    in 0s      \n",
      "\n",
      "2023-06-11 16:51:39 (6.11 MB/s) - ‘exchange_rates.csv.1’ saved [590/590]\n",
      "\n"
     ]
    }
   ],
   "source": [
    "!wget https://cf-courses-data.s3.us.cloud-object-storage.appdomain.cloud/IBMDeveloperSkillsNetwork-PY0221EN-SkillsNetwork/labs/module%206/Lab%20-%20Extract%20Transform%20Load/data/bank_market_cap_1.json\n",
    "!wget https://cf-courses-data.s3.us.cloud-object-storage.appdomain.cloud/IBMDeveloperSkillsNetwork-PY0221EN-SkillsNetwork/labs/module%206/Lab%20-%20Extract%20Transform%20Load/data/bank_market_cap_2.json\n",
    "!wget https://cf-courses-data.s3.us.cloud-object-storage.appdomain.cloud/IBMDeveloperSkillsNetwork-PY0221EN-SkillsNetwork/labs/module%206/Final%20Assignment/exchange_rates.csv"
   ]
  },
  {
   "cell_type": "code",
   "execution_count": null,
   "id": "fcd686e9-436e-4597-a8dd-beebfbca24c5",
   "metadata": {},
   "outputs": [],
   "source": [
    "Extract"
   ]
  },
  {
   "cell_type": "code",
   "execution_count": null,
   "id": "be7a4d5f-5b25-4def-9d60-0d3eeb6ce3ff",
   "metadata": {},
   "outputs": [],
   "source": [
    "JSON Extract Function\n",
    "This function will extract JSON files."
   ]
  },
  {
   "cell_type": "code",
   "execution_count": 4,
   "id": "554ec114-b6de-491a-8b7b-10edb51432d6",
   "metadata": {
    "tags": []
   },
   "outputs": [],
   "source": [
    "def extract_from_json(file_to_process):\n",
    "    dataframe = pd.read_json(file_to_process)\n",
    "    return dataframe"
   ]
  },
  {
   "cell_type": "code",
   "execution_count": null,
   "id": "765a808d-bb67-4d22-98d6-e0e150c44add",
   "metadata": {},
   "outputs": [],
   "source": [
    "Extract Function\n",
    "\n",
    "Define the extract function that finds JSON file bank_market_cap_1.json and calls the function created above to \n",
    "extract data from them. Store the data in a pandas dataframe. Use the following list for the columns."
   ]
  },
  {
   "cell_type": "code",
   "execution_count": 5,
   "id": "7511b3f7-882a-47cd-870c-31e3090de804",
   "metadata": {
    "tags": []
   },
   "outputs": [],
   "source": [
    "columns=['Name','Market Cap (US$ Billion)']"
   ]
  },
  {
   "cell_type": "code",
   "execution_count": 8,
   "id": "9ba1647e-626b-4d73-a39d-ae3145ef7ff3",
   "metadata": {
    "tags": []
   },
   "outputs": [],
   "source": [
    "def extract():\n",
    "    # Write your code here\n",
    "    extracted_data = pd.DataFrame(columns=['Name','Market Cap (US$ Billion)'])\n",
    "    #process all json files\n",
    "    for jsonfile in [\"bank_market_cap_1.json\", \"bank_market_cap_2.json\"]:#glob.glob(\"*.json\"):\n",
    "        print(jsonfile)\n",
    "        extracted_data = extracted_data.append(extract_from_json(jsonfile), ignore_index=True)\n",
    "    return extracted_data"
   ]
  },
  {
   "cell_type": "code",
   "execution_count": null,
   "id": "59344251-2e28-4a5a-aca2-d4c40e53a71a",
   "metadata": {},
   "outputs": [],
   "source": [
    "Question 1 Load the file exchange_rates.csv as a dataframe and find the exchange rate for British pounds with the symbol GBP, \n",
    "store it in the variable exchange_rate, you will be asked for the number. Hint: set the parameter index_col to 0."
   ]
  },
  {
   "cell_type": "code",
   "execution_count": 9,
   "id": "09e1fcb7-7ca5-4453-a13c-f42c45fd1f3e",
   "metadata": {
    "tags": []
   },
   "outputs": [
    {
     "name": "stdout",
     "output_type": "stream",
     "text": [
      "0.7323984208000001\n",
      "   Unnamed: 0         Rates\n",
      "0         AUD      1.297088\n",
      "1         BGN      1.608653\n",
      "2         BRL      5.409196\n",
      "3         CAD      1.271426\n",
      "4         CHF      0.886083\n",
      "5         CNY      6.483139\n",
      "6         CZK     21.510117\n",
      "7         DKK      6.119757\n",
      "8         EUR      0.822504\n",
      "9         GBP      0.732398\n",
      "10        HKD      7.752509\n",
      "11        HRK      6.222652\n",
      "12        HUF    294.135549\n",
      "13        IDR  14097.902616\n",
      "14        ILS      3.281132\n",
      "15        INR     73.011186\n",
      "16        ISK    129.133081\n",
      "17        JPY    103.791742\n",
      "18        KRW   1105.839776\n",
      "19        MXN     19.932966\n",
      "20        MYR      4.043017\n",
      "21        NOK      8.497121\n",
      "22        NZD      1.393733\n",
      "23        PHP     48.070406\n",
      "24        PLN      3.732933\n",
      "25        RON      4.008883\n",
      "26        RUB     74.930827\n",
      "27        SEK      8.292071\n",
      "28        SGD      1.328261\n",
      "29        THB     30.009870\n",
      "30        TRY      7.418572\n",
      "31        USD      1.000000\n",
      "32        ZAR     15.118441\n"
     ]
    }
   ],
   "source": [
    "# Write your code here\n",
    "df = pd.read_csv(r'exchange_rates.csv')\n",
    "df=pd.DataFrame(df)\n",
    "#df\n",
    "exchange_rate=df.loc[9, 'Rates']\n",
    "print(exchange_rate) # British pounds with the symbol GBP\n",
    "print(df)"
   ]
  },
  {
   "cell_type": "code",
   "execution_count": null,
   "id": "1d58341f-1926-4219-8c09-8406635ea41e",
   "metadata": {},
   "outputs": [],
   "source": [
    "Transform\n",
    "\n",
    "Using exchange_rate and the exchange_rates.csv file find the exchange rate of USD to GBP. Write a transform function that\n",
    "\n",
    "Changes the Market Cap (US$ Billion) column from USD to GBP\n",
    "Rounds the Market Cap (US$ Billion)` column to 3 decimal places\n",
    "Rename Market Cap (US$ Billion) to Market Cap (GBP$ Billion)"
   ]
  },
  {
   "cell_type": "code",
   "execution_count": 11,
   "id": "2b682fa1-361a-4047-aa51-7dced8b7ace9",
   "metadata": {
    "tags": []
   },
   "outputs": [],
   "source": [
    "def transform(data):\n",
    "    # Write your code here\n",
    "    data['Market Cap (US$ Billion)'] = round(data['Market Cap (US$ Billion)'] * exchange_rate,3)\n",
    "    data.rename(columns={\"Market Cap (US$ Billion)\":\"Market Cap (GBP$ Billion)\"}, inplace = True)\n",
    "    return data"
   ]
  },
  {
   "cell_type": "code",
   "execution_count": null,
   "id": "1dd60ba3-a6b1-473a-bf03-519ea0f6019f",
   "metadata": {},
   "outputs": [],
   "source": [
    "Load\n",
    "Create a function that takes a dataframe and load it to a csv named bank_market_cap_gbp.csv. Make sure to set index to False."
   ]
  },
  {
   "cell_type": "code",
   "execution_count": 12,
   "id": "3cf1b1e1-59be-4500-84eb-17aa4f4eb0db",
   "metadata": {
    "tags": []
   },
   "outputs": [],
   "source": [
    "targetfile=\"bank_market_cap_gbp.csv\"\n",
    "def load(targetfile,data_to_load):\n",
    "    # Write your code here\n",
    "    data_to_load.to_csv(targetfile, index=False)"
   ]
  },
  {
   "cell_type": "code",
   "execution_count": null,
   "id": "8a11122c-0433-40fe-b3d4-02070b8adf0a",
   "metadata": {},
   "outputs": [],
   "source": [
    "Logging Function"
   ]
  },
  {
   "cell_type": "code",
   "execution_count": null,
   "id": "d92f1cac-7c13-4bcb-98f9-6ccd11cfc48e",
   "metadata": {},
   "outputs": [],
   "source": [
    "Write the logging function log to log your data:"
   ]
  },
  {
   "cell_type": "code",
   "execution_count": 13,
   "id": "6dc395b2-4e4b-4b9b-a0e8-dbda9a8b5b7d",
   "metadata": {
    "tags": []
   },
   "outputs": [],
   "source": [
    "def log(message):\n",
    "    # Write your code here\n",
    "    timestamp_format = '%Y-%h-%d-%H:%M:%S' # Year-Monthname-Day-Hour-Minute-Second\n",
    "    now = datetime.now() # get current timestamp\n",
    "    timestamp = now.strftime(timestamp_format)\n",
    "    with open(\"logfile.txt\",\"a\") as f:\n",
    "        f.write(timestamp + ',' + message + '\\n')"
   ]
  },
  {
   "cell_type": "code",
   "execution_count": null,
   "id": "047d3d72-4f6d-4375-8d1a-805987c8940f",
   "metadata": {},
   "outputs": [],
   "source": [
    "Running the ETL Process"
   ]
  },
  {
   "cell_type": "code",
   "execution_count": null,
   "id": "c9c050f2-2032-46c0-9f8d-411967d66108",
   "metadata": {},
   "outputs": [],
   "source": [
    "Log the process accordingly using the following \"ETL Job Started\" and \"Extract phase Started\""
   ]
  },
  {
   "cell_type": "code",
   "execution_count": 14,
   "id": "9ec8982d-7c0b-4ba9-ab8b-b641ecd920d4",
   "metadata": {
    "tags": []
   },
   "outputs": [],
   "source": [
    "# Write your code here\n",
    "log(\"ETL Job Started\")\n",
    "log(\"Extract phase Started\")"
   ]
  },
  {
   "cell_type": "code",
   "execution_count": null,
   "id": "f93cce55-8606-49fd-a8ac-4cfa4baa05f8",
   "metadata": {},
   "outputs": [],
   "source": [
    "Extract"
   ]
  },
  {
   "cell_type": "code",
   "execution_count": null,
   "id": "096284ab-a288-4a14-b301-7607acdfa4b0",
   "metadata": {},
   "outputs": [],
   "source": [
    "Question 2 Use the function extract, and print the first 5 rows, take a screen shot:"
   ]
  },
  {
   "cell_type": "code",
   "execution_count": 15,
   "id": "31f4917b-fc27-4d87-b1ae-c71f8d17ee3c",
   "metadata": {
    "tags": []
   },
   "outputs": [
    {
     "name": "stdout",
     "output_type": "stream",
     "text": [
      "bank_market_cap_1.json\n",
      "bank_market_cap_2.json\n"
     ]
    },
    {
     "data": {
      "text/html": [
       "<div>\n",
       "<style scoped>\n",
       "    .dataframe tbody tr th:only-of-type {\n",
       "        vertical-align: middle;\n",
       "    }\n",
       "\n",
       "    .dataframe tbody tr th {\n",
       "        vertical-align: top;\n",
       "    }\n",
       "\n",
       "    .dataframe thead th {\n",
       "        text-align: right;\n",
       "    }\n",
       "</style>\n",
       "<table border=\"1\" class=\"dataframe\">\n",
       "  <thead>\n",
       "    <tr style=\"text-align: right;\">\n",
       "      <th></th>\n",
       "      <th>Name</th>\n",
       "      <th>Market Cap (US$ Billion)</th>\n",
       "    </tr>\n",
       "  </thead>\n",
       "  <tbody>\n",
       "    <tr>\n",
       "      <th>0</th>\n",
       "      <td>JPMorgan Chase</td>\n",
       "      <td>390.934</td>\n",
       "    </tr>\n",
       "    <tr>\n",
       "      <th>1</th>\n",
       "      <td>Industrial and Commercial Bank of China</td>\n",
       "      <td>345.214</td>\n",
       "    </tr>\n",
       "    <tr>\n",
       "      <th>2</th>\n",
       "      <td>Bank of America</td>\n",
       "      <td>325.331</td>\n",
       "    </tr>\n",
       "    <tr>\n",
       "      <th>3</th>\n",
       "      <td>Wells Fargo</td>\n",
       "      <td>308.013</td>\n",
       "    </tr>\n",
       "    <tr>\n",
       "      <th>4</th>\n",
       "      <td>China Construction Bank</td>\n",
       "      <td>257.399</td>\n",
       "    </tr>\n",
       "  </tbody>\n",
       "</table>\n",
       "</div>"
      ],
      "text/plain": [
       "                                      Name  Market Cap (US$ Billion)\n",
       "0                           JPMorgan Chase                   390.934\n",
       "1  Industrial and Commercial Bank of China                   345.214\n",
       "2                          Bank of America                   325.331\n",
       "3                              Wells Fargo                   308.013\n",
       "4                  China Construction Bank                   257.399"
      ]
     },
     "execution_count": 15,
     "metadata": {},
     "output_type": "execute_result"
    }
   ],
   "source": [
    "# Call the function here\n",
    "extracted_data = extract()\n",
    "# Print the rows here\n",
    "extracted_data.head()"
   ]
  },
  {
   "cell_type": "code",
   "execution_count": null,
   "id": "feb18cc0-b73d-4ba9-a91c-000be5bfa9ea",
   "metadata": {},
   "outputs": [],
   "source": [
    "Log the data as \"Extract phase Ended\""
   ]
  },
  {
   "cell_type": "code",
   "execution_count": 16,
   "id": "d7247070-b8bd-480d-8fe6-303b99f9d3b1",
   "metadata": {
    "tags": []
   },
   "outputs": [],
   "source": [
    "# Write your code here\n",
    "log(\"Extract phase Ended\")"
   ]
  },
  {
   "cell_type": "code",
   "execution_count": null,
   "id": "7a085c2d-2c66-4348-89d9-ab68586b9da9",
   "metadata": {},
   "outputs": [],
   "source": [
    "Transform"
   ]
  },
  {
   "cell_type": "code",
   "execution_count": null,
   "id": "6c50c2ae-f162-4f4c-a5ee-7d8144162ecf",
   "metadata": {},
   "outputs": [],
   "source": [
    "Log the following \"Transform phase Started\""
   ]
  },
  {
   "cell_type": "code",
   "execution_count": 17,
   "id": "0858ab76-c173-495c-a01a-22630523f9ff",
   "metadata": {
    "tags": []
   },
   "outputs": [],
   "source": [
    "# Write your code here\n",
    "log(\"Transform phase Started\")"
   ]
  },
  {
   "cell_type": "code",
   "execution_count": null,
   "id": "dfa18891-f569-4df8-948f-d9a5ff707657",
   "metadata": {},
   "outputs": [],
   "source": [
    "Question 3 Use the function transform and print the first 5 rows of the output, take a screen shot:"
   ]
  },
  {
   "cell_type": "code",
   "execution_count": 18,
   "id": "54709930-71b4-4191-957f-2a82d84a0199",
   "metadata": {
    "tags": []
   },
   "outputs": [
    {
     "data": {
      "text/html": [
       "<div>\n",
       "<style scoped>\n",
       "    .dataframe tbody tr th:only-of-type {\n",
       "        vertical-align: middle;\n",
       "    }\n",
       "\n",
       "    .dataframe tbody tr th {\n",
       "        vertical-align: top;\n",
       "    }\n",
       "\n",
       "    .dataframe thead th {\n",
       "        text-align: right;\n",
       "    }\n",
       "</style>\n",
       "<table border=\"1\" class=\"dataframe\">\n",
       "  <thead>\n",
       "    <tr style=\"text-align: right;\">\n",
       "      <th></th>\n",
       "      <th>Name</th>\n",
       "      <th>Market Cap (GBP$ Billion)</th>\n",
       "    </tr>\n",
       "  </thead>\n",
       "  <tbody>\n",
       "    <tr>\n",
       "      <th>0</th>\n",
       "      <td>JPMorgan Chase</td>\n",
       "      <td>286.319</td>\n",
       "    </tr>\n",
       "    <tr>\n",
       "      <th>1</th>\n",
       "      <td>Industrial and Commercial Bank of China</td>\n",
       "      <td>252.834</td>\n",
       "    </tr>\n",
       "    <tr>\n",
       "      <th>2</th>\n",
       "      <td>Bank of America</td>\n",
       "      <td>238.272</td>\n",
       "    </tr>\n",
       "    <tr>\n",
       "      <th>3</th>\n",
       "      <td>Wells Fargo</td>\n",
       "      <td>225.588</td>\n",
       "    </tr>\n",
       "    <tr>\n",
       "      <th>4</th>\n",
       "      <td>China Construction Bank</td>\n",
       "      <td>188.519</td>\n",
       "    </tr>\n",
       "  </tbody>\n",
       "</table>\n",
       "</div>"
      ],
      "text/plain": [
       "                                      Name  Market Cap (GBP$ Billion)\n",
       "0                           JPMorgan Chase                    286.319\n",
       "1  Industrial and Commercial Bank of China                    252.834\n",
       "2                          Bank of America                    238.272\n",
       "3                              Wells Fargo                    225.588\n",
       "4                  China Construction Bank                    188.519"
      ]
     },
     "execution_count": 18,
     "metadata": {},
     "output_type": "execute_result"
    }
   ],
   "source": [
    "# Call the function here\n",
    "transformed_data = transform(extracted_data)\n",
    "# Print the first 5 rows here\n",
    "transformed_data.head() "
   ]
  },
  {
   "cell_type": "code",
   "execution_count": null,
   "id": "0b93f0f3-f149-4e73-9441-d21c24029ea4",
   "metadata": {},
   "outputs": [],
   "source": [
    "Log your data \"Transform phase Ended\""
   ]
  },
  {
   "cell_type": "code",
   "execution_count": 19,
   "id": "9fb4d916-4ad1-4d5e-ae94-4f9ce55e4e45",
   "metadata": {
    "tags": []
   },
   "outputs": [],
   "source": [
    "# Write your code here\n",
    "log(\"Transform phase Ended\")"
   ]
  },
  {
   "cell_type": "code",
   "execution_count": null,
   "id": "68b4c121-22ae-4831-b873-9df14ef8ba2c",
   "metadata": {},
   "outputs": [],
   "source": [
    "Load"
   ]
  },
  {
   "cell_type": "code",
   "execution_count": null,
   "id": "466652e2-44b3-4e9c-a94f-aff05925af4e",
   "metadata": {},
   "outputs": [],
   "source": [
    "Log the following \"Load phase Started\"."
   ]
  },
  {
   "cell_type": "code",
   "execution_count": 20,
   "id": "9484f56d-f02a-4d3e-a659-0644758d06c1",
   "metadata": {
    "tags": []
   },
   "outputs": [],
   "source": [
    "# Write your code here\n",
    "log(\"Load phase Started\")"
   ]
  },
  {
   "cell_type": "code",
   "execution_count": null,
   "id": "03958da5-e31b-41ff-ab48-cca347403303",
   "metadata": {},
   "outputs": [],
   "source": [
    "Call the load function"
   ]
  },
  {
   "cell_type": "code",
   "execution_count": 21,
   "id": "5607a6ef-9387-4a67-a216-5d5f522bfe03",
   "metadata": {
    "tags": []
   },
   "outputs": [],
   "source": [
    "# Write your code here\n",
    "load(targetfile,transformed_data)"
   ]
  },
  {
   "cell_type": "code",
   "execution_count": null,
   "id": "8adb3f5e-2587-4a41-b708-621d0730d9c0",
   "metadata": {},
   "outputs": [],
   "source": [
    "Log the following \"Load phase Ended\"."
   ]
  },
  {
   "cell_type": "code",
   "execution_count": 22,
   "id": "62aa8ea7-022e-4fb4-86ad-ed3ab988678d",
   "metadata": {
    "tags": []
   },
   "outputs": [],
   "source": [
    "# Write your code here\n",
    "log(\"Load phase Ended\")"
   ]
  },
  {
   "cell_type": "code",
   "execution_count": null,
   "id": "80d54e0f-a51d-4a43-9850-896ddcd904a4",
   "metadata": {},
   "outputs": [],
   "source": [
    "Authors\n",
    "\n",
    "Ramesh Sannareddy, Joseph Santrcangelo and Azim Hirjani\n",
    "\n",
    "Other Contributors\n",
    "\n",
    "Rav Ahuja\n",
    "\n",
    "Change Log\n",
    "\n",
    "                                                            Date (YYYY-MM-DD)\tVersion\tChanged By\tChange Description\n",
    "                                                            2020-11-25\t0.1\tRamesh Sannareddy\tCreated initial version of the lab\n",
    "        \n",
    "Copyright © 2020 IBM Corporation. This notebook and its source code are released under the terms of the MIT License."
   ]
  }
 ],
 "metadata": {
  "kernelspec": {
   "display_name": "Python",
   "language": "python",
   "name": "conda-env-python-py"
  },
  "language_info": {
   "codemirror_mode": {
    "name": "ipython",
    "version": 3
   },
   "file_extension": ".py",
   "mimetype": "text/x-python",
   "name": "python",
   "nbconvert_exporter": "python",
   "pygments_lexer": "ipython3",
   "version": "3.7.12"
  }
 },
 "nbformat": 4,
 "nbformat_minor": 5
}
